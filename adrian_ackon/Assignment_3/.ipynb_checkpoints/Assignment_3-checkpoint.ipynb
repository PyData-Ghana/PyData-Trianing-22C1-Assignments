{
 "cells": [
  {
   "cell_type": "code",
   "execution_count": 4,
   "id": "b3036621",
   "metadata": {},
   "outputs": [],
   "source": [
    "from urllib.request import Request, urlopen\n",
    "from bs4 import BeautifulSoup as soup\n",
    "import pandas as pd\n",
    "\n",
    "url = 'https://www.jumia.com.gh/phones-tablets/'\n",
    "request = Request(url,headers={'User-Agent': 'Mozilla/5.0'})\n",
    "webpage = urlopen(request).read()\n",
    "formatted_webpage = soup(webpage, \"html.parser\")\n",
    "results = [pro.get_text() for pro in formatted_webpage .select(\".core .name\") if pro.get_text()]\n",
    "\n",
    "price = [cost.get_text() for cost in formatted_webpage .select(\".core .prc\") if cost.get_text()]\n",
    "df = pd.DataFrame({\"name\" : results, \"Price\" : price,})\n",
    "df.to_csv('adrian_ackon: Assignment 3')"
   ]
  }
 ],
 "metadata": {
  "kernelspec": {
   "display_name": "Python 3 (ipykernel)",
   "language": "python",
   "name": "python3"
  },
  "language_info": {
   "codemirror_mode": {
    "name": "ipython",
    "version": 3
   },
   "file_extension": ".py",
   "mimetype": "text/x-python",
   "name": "python",
   "nbconvert_exporter": "python",
   "pygments_lexer": "ipython3",
   "version": "3.9.4"
  }
 },
 "nbformat": 4,
 "nbformat_minor": 5
}
