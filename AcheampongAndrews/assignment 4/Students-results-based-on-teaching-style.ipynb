{
 "cells": [
  {
   "cell_type": "code",
   "execution_count": 1,
   "metadata": {},
   "outputs": [],
   "source": [
    "import pandas as pd\n",
    "import numpy as np\n",
    "import matplotlib.pyplot as plt\n",
    "import seaborn as sns"
   ]
  },
  {
   "cell_type": "code",
   "execution_count": 2,
   "metadata": {
    "collapsed": true
   },
   "outputs": [
    {
     "name": "stdout",
     "output_type": "stream",
     "text": [
      "Requirement already satisfied: pyreadstat in c:\\users\\samuel n-amoabeng\\anaconda3\\lib\\site-packages (1.1.4)\n",
      "Requirement already satisfied: pandas>=1.2.0 in c:\\users\\samuel n-amoabeng\\anaconda3\\lib\\site-packages (from pyreadstat) (1.2.4)\n",
      "Requirement already satisfied: python-dateutil>=2.7.3 in c:\\users\\samuel n-amoabeng\\anaconda3\\lib\\site-packages (from pandas>=1.2.0->pyreadstat) (2.8.1)\n",
      "Requirement already satisfied: pytz>=2017.3 in c:\\users\\samuel n-amoabeng\\anaconda3\\lib\\site-packages (from pandas>=1.2.0->pyreadstat) (2021.1)\n",
      "Requirement already satisfied: numpy>=1.16.5 in c:\\users\\samuel n-amoabeng\\anaconda3\\lib\\site-packages (from pandas>=1.2.0->pyreadstat) (1.20.1)\n",
      "Requirement already satisfied: six>=1.5 in c:\\users\\samuel n-amoabeng\\anaconda3\\lib\\site-packages (from python-dateutil>=2.7.3->pandas>=1.2.0->pyreadstat) (1.15.0)\n"
     ]
    }
   ],
   "source": [
    "!pip install pyreadstat"
   ]
  },
  {
   "cell_type": "markdown",
   "metadata": {},
   "source": [
    "### Loading dataset and Data Info"
   ]
  },
  {
   "cell_type": "code",
   "execution_count": 3,
   "metadata": {
    "collapsed": true
   },
   "outputs": [
    {
     "data": {
      "text/html": [
       "<div>\n",
       "<style scoped>\n",
       "    .dataframe tbody tr th:only-of-type {\n",
       "        vertical-align: middle;\n",
       "    }\n",
       "\n",
       "    .dataframe tbody tr th {\n",
       "        vertical-align: top;\n",
       "    }\n",
       "\n",
       "    .dataframe thead th {\n",
       "        text-align: right;\n",
       "    }\n",
       "</style>\n",
       "<table border=\"1\" class=\"dataframe\">\n",
       "  <thead>\n",
       "    <tr style=\"text-align: right;\">\n",
       "      <th></th>\n",
       "      <th>Student</th>\n",
       "      <th>Teacher</th>\n",
       "      <th>Gender</th>\n",
       "      <th>Ethnic</th>\n",
       "      <th>Freeredu</th>\n",
       "      <th>Score</th>\n",
       "      <th>wesson</th>\n",
       "    </tr>\n",
       "  </thead>\n",
       "  <tbody>\n",
       "    <tr>\n",
       "      <th>0</th>\n",
       "      <td>1.0</td>\n",
       "      <td>Ruger</td>\n",
       "      <td>Female</td>\n",
       "      <td>Asian</td>\n",
       "      <td>Free lunch</td>\n",
       "      <td>76.0</td>\n",
       "      <td>Ruger_Smith</td>\n",
       "    </tr>\n",
       "    <tr>\n",
       "      <th>1</th>\n",
       "      <td>2.0</td>\n",
       "      <td>Ruger</td>\n",
       "      <td>Female</td>\n",
       "      <td>Hispanic</td>\n",
       "      <td>Paid lunch</td>\n",
       "      <td>56.0</td>\n",
       "      <td>Ruger_Smith</td>\n",
       "    </tr>\n",
       "    <tr>\n",
       "      <th>2</th>\n",
       "      <td>3.0</td>\n",
       "      <td>Ruger</td>\n",
       "      <td>Female</td>\n",
       "      <td>African-American</td>\n",
       "      <td>Free lunch</td>\n",
       "      <td>34.0</td>\n",
       "      <td>Ruger_Smith</td>\n",
       "    </tr>\n",
       "    <tr>\n",
       "      <th>3</th>\n",
       "      <td>4.0</td>\n",
       "      <td>Ruger</td>\n",
       "      <td>Female</td>\n",
       "      <td>Asian</td>\n",
       "      <td>Paid lunch</td>\n",
       "      <td>59.0</td>\n",
       "      <td>Ruger_Smith</td>\n",
       "    </tr>\n",
       "    <tr>\n",
       "      <th>4</th>\n",
       "      <td>5.0</td>\n",
       "      <td>Ruger</td>\n",
       "      <td>Male</td>\n",
       "      <td>Hispanic</td>\n",
       "      <td>Free lunch</td>\n",
       "      <td>73.0</td>\n",
       "      <td>Ruger_Smith</td>\n",
       "    </tr>\n",
       "    <tr>\n",
       "      <th>...</th>\n",
       "      <td>...</td>\n",
       "      <td>...</td>\n",
       "      <td>...</td>\n",
       "      <td>...</td>\n",
       "      <td>...</td>\n",
       "      <td>...</td>\n",
       "      <td>...</td>\n",
       "    </tr>\n",
       "    <tr>\n",
       "      <th>212</th>\n",
       "      <td>213.0</td>\n",
       "      <td>Wesson</td>\n",
       "      <td>Male</td>\n",
       "      <td>Hispanic</td>\n",
       "      <td>Free lunch</td>\n",
       "      <td>94.0</td>\n",
       "      <td>Wesson</td>\n",
       "    </tr>\n",
       "    <tr>\n",
       "      <th>213</th>\n",
       "      <td>214.0</td>\n",
       "      <td>Wesson</td>\n",
       "      <td>Male</td>\n",
       "      <td>Hispanic</td>\n",
       "      <td>Paid lunch</td>\n",
       "      <td>91.0</td>\n",
       "      <td>Wesson</td>\n",
       "    </tr>\n",
       "    <tr>\n",
       "      <th>214</th>\n",
       "      <td>215.0</td>\n",
       "      <td>Wesson</td>\n",
       "      <td>Female</td>\n",
       "      <td>African-American</td>\n",
       "      <td>Paid lunch</td>\n",
       "      <td>53.0</td>\n",
       "      <td>Wesson</td>\n",
       "    </tr>\n",
       "    <tr>\n",
       "      <th>215</th>\n",
       "      <td>216.0</td>\n",
       "      <td>Wesson</td>\n",
       "      <td>Male</td>\n",
       "      <td>Hispanic</td>\n",
       "      <td>Paid lunch</td>\n",
       "      <td>57.0</td>\n",
       "      <td>Wesson</td>\n",
       "    </tr>\n",
       "    <tr>\n",
       "      <th>216</th>\n",
       "      <td>NaN</td>\n",
       "      <td>NaN</td>\n",
       "      <td>NaN</td>\n",
       "      <td>NaN</td>\n",
       "      <td>NaN</td>\n",
       "      <td>NaN</td>\n",
       "      <td>Ruger_Smith</td>\n",
       "    </tr>\n",
       "  </tbody>\n",
       "</table>\n",
       "<p>217 rows × 7 columns</p>\n",
       "</div>"
      ],
      "text/plain": [
       "     Student Teacher  Gender            Ethnic    Freeredu  Score       wesson\n",
       "0        1.0   Ruger  Female             Asian  Free lunch   76.0  Ruger_Smith\n",
       "1        2.0   Ruger  Female          Hispanic  Paid lunch   56.0  Ruger_Smith\n",
       "2        3.0   Ruger  Female  African-American  Free lunch   34.0  Ruger_Smith\n",
       "3        4.0   Ruger  Female             Asian  Paid lunch   59.0  Ruger_Smith\n",
       "4        5.0   Ruger    Male          Hispanic  Free lunch   73.0  Ruger_Smith\n",
       "..       ...     ...     ...               ...         ...    ...          ...\n",
       "212    213.0  Wesson    Male          Hispanic  Free lunch   94.0       Wesson\n",
       "213    214.0  Wesson    Male          Hispanic  Paid lunch   91.0       Wesson\n",
       "214    215.0  Wesson  Female  African-American  Paid lunch   53.0       Wesson\n",
       "215    216.0  Wesson    Male          Hispanic  Paid lunch   57.0       Wesson\n",
       "216      NaN     NaN     NaN               NaN         NaN    NaN  Ruger_Smith\n",
       "\n",
       "[217 rows x 7 columns]"
      ]
     },
     "execution_count": 3,
     "metadata": {},
     "output_type": "execute_result"
    }
   ],
   "source": [
    "df = pd.read_spss('1ResearchProjectData.sav')\n",
    "df"
   ]
  },
  {
   "cell_type": "code",
   "execution_count": 6,
   "metadata": {
    "collapsed": true
   },
   "outputs": [
    {
     "data": {
      "text/html": [
       "<div>\n",
       "<style scoped>\n",
       "    .dataframe tbody tr th:only-of-type {\n",
       "        vertical-align: middle;\n",
       "    }\n",
       "\n",
       "    .dataframe tbody tr th {\n",
       "        vertical-align: top;\n",
       "    }\n",
       "\n",
       "    .dataframe thead th {\n",
       "        text-align: right;\n",
       "    }\n",
       "</style>\n",
       "<table border=\"1\" class=\"dataframe\">\n",
       "  <thead>\n",
       "    <tr style=\"text-align: right;\">\n",
       "      <th></th>\n",
       "      <th>Student</th>\n",
       "      <th>Teacher</th>\n",
       "      <th>Gender</th>\n",
       "      <th>Ethnic</th>\n",
       "      <th>Freeredu</th>\n",
       "      <th>Score</th>\n",
       "      <th>wesson</th>\n",
       "    </tr>\n",
       "  </thead>\n",
       "  <tbody>\n",
       "    <tr>\n",
       "      <th>0</th>\n",
       "      <td>1.0</td>\n",
       "      <td>Ruger</td>\n",
       "      <td>Female</td>\n",
       "      <td>Asian</td>\n",
       "      <td>Free lunch</td>\n",
       "      <td>76.0</td>\n",
       "      <td>Ruger_Smith</td>\n",
       "    </tr>\n",
       "    <tr>\n",
       "      <th>1</th>\n",
       "      <td>2.0</td>\n",
       "      <td>Ruger</td>\n",
       "      <td>Female</td>\n",
       "      <td>Hispanic</td>\n",
       "      <td>Paid lunch</td>\n",
       "      <td>56.0</td>\n",
       "      <td>Ruger_Smith</td>\n",
       "    </tr>\n",
       "    <tr>\n",
       "      <th>2</th>\n",
       "      <td>3.0</td>\n",
       "      <td>Ruger</td>\n",
       "      <td>Female</td>\n",
       "      <td>African-American</td>\n",
       "      <td>Free lunch</td>\n",
       "      <td>34.0</td>\n",
       "      <td>Ruger_Smith</td>\n",
       "    </tr>\n",
       "    <tr>\n",
       "      <th>3</th>\n",
       "      <td>4.0</td>\n",
       "      <td>Ruger</td>\n",
       "      <td>Female</td>\n",
       "      <td>Asian</td>\n",
       "      <td>Paid lunch</td>\n",
       "      <td>59.0</td>\n",
       "      <td>Ruger_Smith</td>\n",
       "    </tr>\n",
       "    <tr>\n",
       "      <th>4</th>\n",
       "      <td>5.0</td>\n",
       "      <td>Ruger</td>\n",
       "      <td>Male</td>\n",
       "      <td>Hispanic</td>\n",
       "      <td>Free lunch</td>\n",
       "      <td>73.0</td>\n",
       "      <td>Ruger_Smith</td>\n",
       "    </tr>\n",
       "  </tbody>\n",
       "</table>\n",
       "</div>"
      ],
      "text/plain": [
       "   Student Teacher  Gender            Ethnic    Freeredu  Score       wesson\n",
       "0      1.0   Ruger  Female             Asian  Free lunch   76.0  Ruger_Smith\n",
       "1      2.0   Ruger  Female          Hispanic  Paid lunch   56.0  Ruger_Smith\n",
       "2      3.0   Ruger  Female  African-American  Free lunch   34.0  Ruger_Smith\n",
       "3      4.0   Ruger  Female             Asian  Paid lunch   59.0  Ruger_Smith\n",
       "4      5.0   Ruger    Male          Hispanic  Free lunch   73.0  Ruger_Smith"
      ]
     },
     "execution_count": 6,
     "metadata": {},
     "output_type": "execute_result"
    }
   ],
   "source": [
    "df.head()"
   ]
  },
  {
   "cell_type": "code",
   "execution_count": 7,
   "metadata": {},
   "outputs": [
    {
     "data": {
      "text/plain": [
       "(217, 7)"
      ]
     },
     "execution_count": 7,
     "metadata": {},
     "output_type": "execute_result"
    }
   ],
   "source": [
    "df.shape"
   ]
  },
  {
   "cell_type": "code",
   "execution_count": 8,
   "metadata": {
    "collapsed": true
   },
   "outputs": [
    {
     "data": {
      "text/plain": [
       "Student      float64\n",
       "Teacher     category\n",
       "Gender      category\n",
       "Ethnic      category\n",
       "Freeredu    category\n",
       "Score        float64\n",
       "wesson      category\n",
       "dtype: object"
      ]
     },
     "execution_count": 8,
     "metadata": {},
     "output_type": "execute_result"
    }
   ],
   "source": [
    "df.dtypes #the type of data "
   ]
  },
  {
   "cell_type": "code",
   "execution_count": 9,
   "metadata": {
    "collapsed": true
   },
   "outputs": [
    {
     "name": "stdout",
     "output_type": "stream",
     "text": [
      "<class 'pandas.core.frame.DataFrame'>\n",
      "RangeIndex: 217 entries, 0 to 216\n",
      "Data columns (total 7 columns):\n",
      " #   Column    Non-Null Count  Dtype   \n",
      "---  ------    --------------  -----   \n",
      " 0   Student   216 non-null    float64 \n",
      " 1   Teacher   216 non-null    category\n",
      " 2   Gender    216 non-null    category\n",
      " 3   Ethnic    216 non-null    category\n",
      " 4   Freeredu  216 non-null    category\n",
      " 5   Score     216 non-null    float64 \n",
      " 6   wesson    217 non-null    category\n",
      "dtypes: category(5), float64(2)\n",
      "memory usage: 5.3 KB\n"
     ]
    }
   ],
   "source": [
    "df.info() # summary of the data"
   ]
  },
  {
   "cell_type": "markdown",
   "metadata": {},
   "source": [
    "### Data Cleaning"
   ]
  },
  {
   "cell_type": "code",
   "execution_count": 31,
   "metadata": {
    "collapsed": true
   },
   "outputs": [
    {
     "data": {
      "text/plain": [
       "Student     1\n",
       "Teacher     1\n",
       "Gender      1\n",
       "Ethnic      1\n",
       "Freeredu    1\n",
       "Score       1\n",
       "wesson      0\n",
       "dtype: int64"
      ]
     },
     "execution_count": 31,
     "metadata": {},
     "output_type": "execute_result"
    }
   ],
   "source": [
    "#finding missing values\n",
    "df.isna().sum()"
   ]
  },
  {
   "cell_type": "code",
   "execution_count": 18,
   "metadata": {
    "collapsed": true
   },
   "outputs": [
    {
     "data": {
      "text/html": [
       "<div>\n",
       "<style scoped>\n",
       "    .dataframe tbody tr th:only-of-type {\n",
       "        vertical-align: middle;\n",
       "    }\n",
       "\n",
       "    .dataframe tbody tr th {\n",
       "        vertical-align: top;\n",
       "    }\n",
       "\n",
       "    .dataframe thead th {\n",
       "        text-align: right;\n",
       "    }\n",
       "</style>\n",
       "<table border=\"1\" class=\"dataframe\">\n",
       "  <thead>\n",
       "    <tr style=\"text-align: right;\">\n",
       "      <th></th>\n",
       "      <th>Student</th>\n",
       "      <th>Teacher</th>\n",
       "      <th>Gender</th>\n",
       "      <th>Ethnic</th>\n",
       "      <th>Freeredu</th>\n",
       "      <th>Score</th>\n",
       "      <th>wesson</th>\n",
       "      <th>Method</th>\n",
       "    </tr>\n",
       "  </thead>\n",
       "  <tbody>\n",
       "    <tr>\n",
       "      <th>0</th>\n",
       "      <td>1.0</td>\n",
       "      <td>Ruger</td>\n",
       "      <td>Female</td>\n",
       "      <td>Asian</td>\n",
       "      <td>Free lunch</td>\n",
       "      <td>76.0</td>\n",
       "      <td>Ruger_Smith</td>\n",
       "      <td>Standard</td>\n",
       "    </tr>\n",
       "    <tr>\n",
       "      <th>1</th>\n",
       "      <td>2.0</td>\n",
       "      <td>Ruger</td>\n",
       "      <td>Female</td>\n",
       "      <td>Hispanic</td>\n",
       "      <td>Paid lunch</td>\n",
       "      <td>56.0</td>\n",
       "      <td>Ruger_Smith</td>\n",
       "      <td>Standard</td>\n",
       "    </tr>\n",
       "    <tr>\n",
       "      <th>2</th>\n",
       "      <td>3.0</td>\n",
       "      <td>Ruger</td>\n",
       "      <td>Female</td>\n",
       "      <td>African-American</td>\n",
       "      <td>Free lunch</td>\n",
       "      <td>34.0</td>\n",
       "      <td>Ruger_Smith</td>\n",
       "      <td>Standard</td>\n",
       "    </tr>\n",
       "    <tr>\n",
       "      <th>3</th>\n",
       "      <td>4.0</td>\n",
       "      <td>Ruger</td>\n",
       "      <td>Female</td>\n",
       "      <td>Asian</td>\n",
       "      <td>Paid lunch</td>\n",
       "      <td>59.0</td>\n",
       "      <td>Ruger_Smith</td>\n",
       "      <td>Standard</td>\n",
       "    </tr>\n",
       "    <tr>\n",
       "      <th>4</th>\n",
       "      <td>5.0</td>\n",
       "      <td>Ruger</td>\n",
       "      <td>Male</td>\n",
       "      <td>Hispanic</td>\n",
       "      <td>Free lunch</td>\n",
       "      <td>73.0</td>\n",
       "      <td>Ruger_Smith</td>\n",
       "      <td>Standard</td>\n",
       "    </tr>\n",
       "    <tr>\n",
       "      <th>...</th>\n",
       "      <td>...</td>\n",
       "      <td>...</td>\n",
       "      <td>...</td>\n",
       "      <td>...</td>\n",
       "      <td>...</td>\n",
       "      <td>...</td>\n",
       "      <td>...</td>\n",
       "      <td>...</td>\n",
       "    </tr>\n",
       "    <tr>\n",
       "      <th>211</th>\n",
       "      <td>212.0</td>\n",
       "      <td>Wesson</td>\n",
       "      <td>Male</td>\n",
       "      <td>African-American</td>\n",
       "      <td>Paid lunch</td>\n",
       "      <td>56.0</td>\n",
       "      <td>Wesson</td>\n",
       "      <td>Traditional</td>\n",
       "    </tr>\n",
       "    <tr>\n",
       "      <th>212</th>\n",
       "      <td>213.0</td>\n",
       "      <td>Wesson</td>\n",
       "      <td>Male</td>\n",
       "      <td>Hispanic</td>\n",
       "      <td>Free lunch</td>\n",
       "      <td>94.0</td>\n",
       "      <td>Wesson</td>\n",
       "      <td>Traditional</td>\n",
       "    </tr>\n",
       "    <tr>\n",
       "      <th>213</th>\n",
       "      <td>214.0</td>\n",
       "      <td>Wesson</td>\n",
       "      <td>Male</td>\n",
       "      <td>Hispanic</td>\n",
       "      <td>Paid lunch</td>\n",
       "      <td>91.0</td>\n",
       "      <td>Wesson</td>\n",
       "      <td>Traditional</td>\n",
       "    </tr>\n",
       "    <tr>\n",
       "      <th>214</th>\n",
       "      <td>215.0</td>\n",
       "      <td>Wesson</td>\n",
       "      <td>Female</td>\n",
       "      <td>African-American</td>\n",
       "      <td>Paid lunch</td>\n",
       "      <td>53.0</td>\n",
       "      <td>Wesson</td>\n",
       "      <td>Traditional</td>\n",
       "    </tr>\n",
       "    <tr>\n",
       "      <th>215</th>\n",
       "      <td>216.0</td>\n",
       "      <td>Wesson</td>\n",
       "      <td>Male</td>\n",
       "      <td>Hispanic</td>\n",
       "      <td>Paid lunch</td>\n",
       "      <td>57.0</td>\n",
       "      <td>Wesson</td>\n",
       "      <td>Traditional</td>\n",
       "    </tr>\n",
       "  </tbody>\n",
       "</table>\n",
       "<p>216 rows × 8 columns</p>\n",
       "</div>"
      ],
      "text/plain": [
       "     Student Teacher  Gender            Ethnic    Freeredu  Score  \\\n",
       "0        1.0   Ruger  Female             Asian  Free lunch   76.0   \n",
       "1        2.0   Ruger  Female          Hispanic  Paid lunch   56.0   \n",
       "2        3.0   Ruger  Female  African-American  Free lunch   34.0   \n",
       "3        4.0   Ruger  Female             Asian  Paid lunch   59.0   \n",
       "4        5.0   Ruger    Male          Hispanic  Free lunch   73.0   \n",
       "..       ...     ...     ...               ...         ...    ...   \n",
       "211    212.0  Wesson    Male  African-American  Paid lunch   56.0   \n",
       "212    213.0  Wesson    Male          Hispanic  Free lunch   94.0   \n",
       "213    214.0  Wesson    Male          Hispanic  Paid lunch   91.0   \n",
       "214    215.0  Wesson  Female  African-American  Paid lunch   53.0   \n",
       "215    216.0  Wesson    Male          Hispanic  Paid lunch   57.0   \n",
       "\n",
       "          wesson       Method  \n",
       "0    Ruger_Smith     Standard  \n",
       "1    Ruger_Smith     Standard  \n",
       "2    Ruger_Smith     Standard  \n",
       "3    Ruger_Smith     Standard  \n",
       "4    Ruger_Smith     Standard  \n",
       "..           ...          ...  \n",
       "211       Wesson  Traditional  \n",
       "212       Wesson  Traditional  \n",
       "213       Wesson  Traditional  \n",
       "214       Wesson  Traditional  \n",
       "215       Wesson  Traditional  \n",
       "\n",
       "[216 rows x 8 columns]"
      ]
     },
     "execution_count": 18,
     "metadata": {},
     "output_type": "execute_result"
    }
   ],
   "source": [
    "# removing missing values\n",
    "df = df.dropna()\n",
    "df"
   ]
  },
  {
   "cell_type": "code",
   "execution_count": 4,
   "metadata": {
    "collapsed": true
   },
   "outputs": [
    {
     "data": {
      "text/html": [
       "<div>\n",
       "<style scoped>\n",
       "    .dataframe tbody tr th:only-of-type {\n",
       "        vertical-align: middle;\n",
       "    }\n",
       "\n",
       "    .dataframe tbody tr th {\n",
       "        vertical-align: top;\n",
       "    }\n",
       "\n",
       "    .dataframe thead th {\n",
       "        text-align: right;\n",
       "    }\n",
       "</style>\n",
       "<table border=\"1\" class=\"dataframe\">\n",
       "  <thead>\n",
       "    <tr style=\"text-align: right;\">\n",
       "      <th></th>\n",
       "      <th>Student</th>\n",
       "      <th>Teacher</th>\n",
       "      <th>Gender</th>\n",
       "      <th>Ethnic</th>\n",
       "      <th>Freeredu</th>\n",
       "      <th>Score</th>\n",
       "      <th>wesson</th>\n",
       "      <th>Method</th>\n",
       "    </tr>\n",
       "  </thead>\n",
       "  <tbody>\n",
       "    <tr>\n",
       "      <th>0</th>\n",
       "      <td>1.0</td>\n",
       "      <td>Ruger</td>\n",
       "      <td>Female</td>\n",
       "      <td>Asian</td>\n",
       "      <td>Free lunch</td>\n",
       "      <td>76.0</td>\n",
       "      <td>Ruger_Smith</td>\n",
       "      <td>Standard</td>\n",
       "    </tr>\n",
       "    <tr>\n",
       "      <th>1</th>\n",
       "      <td>2.0</td>\n",
       "      <td>Ruger</td>\n",
       "      <td>Female</td>\n",
       "      <td>Hispanic</td>\n",
       "      <td>Paid lunch</td>\n",
       "      <td>56.0</td>\n",
       "      <td>Ruger_Smith</td>\n",
       "      <td>Standard</td>\n",
       "    </tr>\n",
       "    <tr>\n",
       "      <th>2</th>\n",
       "      <td>3.0</td>\n",
       "      <td>Ruger</td>\n",
       "      <td>Female</td>\n",
       "      <td>African-American</td>\n",
       "      <td>Free lunch</td>\n",
       "      <td>34.0</td>\n",
       "      <td>Ruger_Smith</td>\n",
       "      <td>Standard</td>\n",
       "    </tr>\n",
       "    <tr>\n",
       "      <th>3</th>\n",
       "      <td>4.0</td>\n",
       "      <td>Ruger</td>\n",
       "      <td>Female</td>\n",
       "      <td>Asian</td>\n",
       "      <td>Paid lunch</td>\n",
       "      <td>59.0</td>\n",
       "      <td>Ruger_Smith</td>\n",
       "      <td>Standard</td>\n",
       "    </tr>\n",
       "    <tr>\n",
       "      <th>4</th>\n",
       "      <td>5.0</td>\n",
       "      <td>Ruger</td>\n",
       "      <td>Male</td>\n",
       "      <td>Hispanic</td>\n",
       "      <td>Free lunch</td>\n",
       "      <td>73.0</td>\n",
       "      <td>Ruger_Smith</td>\n",
       "      <td>Standard</td>\n",
       "    </tr>\n",
       "    <tr>\n",
       "      <th>...</th>\n",
       "      <td>...</td>\n",
       "      <td>...</td>\n",
       "      <td>...</td>\n",
       "      <td>...</td>\n",
       "      <td>...</td>\n",
       "      <td>...</td>\n",
       "      <td>...</td>\n",
       "      <td>...</td>\n",
       "    </tr>\n",
       "    <tr>\n",
       "      <th>212</th>\n",
       "      <td>213.0</td>\n",
       "      <td>Wesson</td>\n",
       "      <td>Male</td>\n",
       "      <td>Hispanic</td>\n",
       "      <td>Free lunch</td>\n",
       "      <td>94.0</td>\n",
       "      <td>Wesson</td>\n",
       "      <td>Traditional</td>\n",
       "    </tr>\n",
       "    <tr>\n",
       "      <th>213</th>\n",
       "      <td>214.0</td>\n",
       "      <td>Wesson</td>\n",
       "      <td>Male</td>\n",
       "      <td>Hispanic</td>\n",
       "      <td>Paid lunch</td>\n",
       "      <td>91.0</td>\n",
       "      <td>Wesson</td>\n",
       "      <td>Traditional</td>\n",
       "    </tr>\n",
       "    <tr>\n",
       "      <th>214</th>\n",
       "      <td>215.0</td>\n",
       "      <td>Wesson</td>\n",
       "      <td>Female</td>\n",
       "      <td>African-American</td>\n",
       "      <td>Paid lunch</td>\n",
       "      <td>53.0</td>\n",
       "      <td>Wesson</td>\n",
       "      <td>Traditional</td>\n",
       "    </tr>\n",
       "    <tr>\n",
       "      <th>215</th>\n",
       "      <td>216.0</td>\n",
       "      <td>Wesson</td>\n",
       "      <td>Male</td>\n",
       "      <td>Hispanic</td>\n",
       "      <td>Paid lunch</td>\n",
       "      <td>57.0</td>\n",
       "      <td>Wesson</td>\n",
       "      <td>Traditional</td>\n",
       "    </tr>\n",
       "    <tr>\n",
       "      <th>216</th>\n",
       "      <td>NaN</td>\n",
       "      <td>NaN</td>\n",
       "      <td>NaN</td>\n",
       "      <td>NaN</td>\n",
       "      <td>NaN</td>\n",
       "      <td>NaN</td>\n",
       "      <td>Ruger_Smith</td>\n",
       "      <td>Standard</td>\n",
       "    </tr>\n",
       "  </tbody>\n",
       "</table>\n",
       "<p>217 rows × 8 columns</p>\n",
       "</div>"
      ],
      "text/plain": [
       "     Student Teacher  Gender            Ethnic    Freeredu  Score  \\\n",
       "0        1.0   Ruger  Female             Asian  Free lunch   76.0   \n",
       "1        2.0   Ruger  Female          Hispanic  Paid lunch   56.0   \n",
       "2        3.0   Ruger  Female  African-American  Free lunch   34.0   \n",
       "3        4.0   Ruger  Female             Asian  Paid lunch   59.0   \n",
       "4        5.0   Ruger    Male          Hispanic  Free lunch   73.0   \n",
       "..       ...     ...     ...               ...         ...    ...   \n",
       "212    213.0  Wesson    Male          Hispanic  Free lunch   94.0   \n",
       "213    214.0  Wesson    Male          Hispanic  Paid lunch   91.0   \n",
       "214    215.0  Wesson  Female  African-American  Paid lunch   53.0   \n",
       "215    216.0  Wesson    Male          Hispanic  Paid lunch   57.0   \n",
       "216      NaN     NaN     NaN               NaN         NaN    NaN   \n",
       "\n",
       "          wesson       Method  \n",
       "0    Ruger_Smith     Standard  \n",
       "1    Ruger_Smith     Standard  \n",
       "2    Ruger_Smith     Standard  \n",
       "3    Ruger_Smith     Standard  \n",
       "4    Ruger_Smith     Standard  \n",
       "..           ...          ...  \n",
       "212       Wesson  Traditional  \n",
       "213       Wesson  Traditional  \n",
       "214       Wesson  Traditional  \n",
       "215       Wesson  Traditional  \n",
       "216  Ruger_Smith     Standard  \n",
       "\n",
       "[217 rows x 8 columns]"
      ]
     },
     "execution_count": 4,
     "metadata": {},
     "output_type": "execute_result"
    }
   ],
   "source": [
    "df['Method']= df['wesson'].apply(lambda x: 'Standard' if 'Ruger_Smith' in x else 'Traditional' )\n",
    "df"
   ]
  },
  {
   "cell_type": "code",
   "execution_count": 78,
   "metadata": {
    "collapsed": true
   },
   "outputs": [
    {
     "name": "stdout",
     "output_type": "stream",
     "text": [
      "<class 'pandas.core.frame.DataFrame'>\n",
      "Int64Index: 216 entries, 0 to 215\n",
      "Data columns (total 8 columns):\n",
      " #   Column    Non-Null Count  Dtype   \n",
      "---  ------    --------------  -----   \n",
      " 0   Student   216 non-null    float64 \n",
      " 1   Teacher   216 non-null    category\n",
      " 2   Gender    216 non-null    category\n",
      " 3   Ethnic    216 non-null    category\n",
      " 4   Freeredu  216 non-null    category\n",
      " 5   Score     216 non-null    float64 \n",
      " 6   wesson    216 non-null    category\n",
      " 7   Method    216 non-null    category\n",
      "dtypes: category(6), float64(2)\n",
      "memory usage: 15.2 KB\n"
     ]
    }
   ],
   "source": [
    "df.info()"
   ]
  },
  {
   "cell_type": "code",
   "execution_count": 87,
   "metadata": {},
   "outputs": [
    {
     "data": {
      "text/plain": [
       "Standard       140\n",
       "Traditional     76\n",
       "Name: Method, dtype: int64"
      ]
     },
     "execution_count": 87,
     "metadata": {},
     "output_type": "execute_result"
    }
   ],
   "source": [
    "df.Method.value_counts()"
   ]
  },
  {
   "cell_type": "markdown",
   "metadata": {},
   "source": [
    "### Data Analysis"
   ]
  },
  {
   "cell_type": "code",
   "execution_count": 89,
   "metadata": {},
   "outputs": [
    {
     "data": {
      "text/plain": [
       "Hispanic            66\n",
       "Asian               53\n",
       "African-American    52\n",
       "Caucasian           45\n",
       "Name: Ethnic, dtype: int64"
      ]
     },
     "execution_count": 89,
     "metadata": {},
     "output_type": "execute_result"
    }
   ],
   "source": [
    "df.Ethnic.value_counts().values"
   ]
  },
  {
   "cell_type": "code",
   "execution_count": 17,
   "metadata": {},
   "outputs": [
    {
     "name": "stdout",
     "output_type": "stream",
     "text": [
      "The average score for Standard method students is 62.33571428571429\n",
      "The average score for Traditional method students is 70.6842105263158\n"
     ]
    }
   ],
   "source": [
    "stand = np.mean(df.Score[df.Method== 'Standard'])\n",
    "print('The average score for Standard method students is', stand)\n",
    "\n",
    "trad = np.mean(df.Score[df.Method== 'Traditional'])\n",
    "print('The average score for Traditional method students is', trad)\n"
   ]
  },
  {
   "cell_type": "markdown",
   "metadata": {},
   "source": [
    "##### From the computation above, we can conclude that the Traditional method for teaching was a better method based on the tudents scores"
   ]
  },
  {
   "cell_type": "code",
   "execution_count": 7,
   "metadata": {},
   "outputs": [
    {
     "data": {
      "image/png": "[encoded data removed]",
      "text/plain": [
       "<Figure size 504x504 with 1 Axes>"
      ]
     },
     "metadata": {},
     "output_type": "display_data"
    }
   ],
   "source": [
    "# Visualizing the number of students based on their ethnic group\n",
    "plt.figure(figsize=(7,7))\n",
    "plt.pie(df.Ethnic.value_counts().values, labels= df.Ethnic.value_counts().index, autopct='%.2f%%')\n",
    "plt.title('Percentages of the students based on their ethnic group')\n",
    "plt.show()"
   ]
  }
 ],
 "metadata": {
  "kernelspec": {
   "display_name": "Python 3",
   "language": "python",
   "name": "python3"
  },
  "language_info": {
   "codemirror_mode": {
    "name": "ipython",
    "version": 3
   },
   "file_extension": ".py",
   "mimetype": "text/x-python",
   "name": "python",
   "nbconvert_exporter": "python",
   "pygments_lexer": "ipython3",
   "version": "3.7.6"
  }
 },
 "nbformat": 4,
 "nbformat_minor": 5
}
