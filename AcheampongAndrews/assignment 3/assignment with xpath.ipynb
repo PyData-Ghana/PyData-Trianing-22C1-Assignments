{
 "cells": [
  {
   "cell_type": "code",
   "execution_count": 1,
   "metadata": {
    "collapsed": true
   },
   "outputs": [
    {
     "name": "stdout",
     "output_type": "stream",
     "text": [
      "Requirement already satisfied: selenium in /home/acheampong/anaconda3/lib/python3.7/site-packages (4.1.0)\n",
      "Requirement already satisfied: trio-websocket~=0.9 in /home/acheampong/anaconda3/lib/python3.7/site-packages (from selenium) (0.9.2)\n",
      "Requirement already satisfied: trio~=0.17 in /home/acheampong/anaconda3/lib/python3.7/site-packages (from selenium) (0.19.0)\n",
      "Requirement already satisfied: urllib3[secure]~=1.26 in /home/acheampong/anaconda3/lib/python3.7/site-packages (from selenium) (1.26.8)\n",
      "Requirement already satisfied: wsproto>=0.14 in /home/acheampong/anaconda3/lib/python3.7/site-packages (from trio-websocket~=0.9->selenium) (1.0.0)\n",
      "Requirement already satisfied: async-generator>=1.10 in /home/acheampong/anaconda3/lib/python3.7/site-packages (from trio-websocket~=0.9->selenium) (1.10)\n",
      "Requirement already satisfied: idna in /home/acheampong/anaconda3/lib/python3.7/site-packages (from trio~=0.17->selenium) (2.8)\n",
      "Requirement already satisfied: attrs>=19.2.0 in /home/acheampong/anaconda3/lib/python3.7/site-packages (from trio~=0.17->selenium) (19.3.0)\n",
      "Requirement already satisfied: outcome in /home/acheampong/anaconda3/lib/python3.7/site-packages (from trio~=0.17->selenium) (1.1.0)\n",
      "Requirement already satisfied: sortedcontainers in /home/acheampong/anaconda3/lib/python3.7/site-packages (from trio~=0.17->selenium) (2.1.0)\n",
      "Requirement already satisfied: sniffio in /home/acheampong/anaconda3/lib/python3.7/site-packages (from trio~=0.17->selenium) (1.2.0)\n",
      "Requirement already satisfied: cryptography>=1.3.4; extra == \"secure\" in /home/acheampong/anaconda3/lib/python3.7/site-packages (from urllib3[secure]~=1.26->selenium) (2.8)\n",
      "Requirement already satisfied: pyOpenSSL>=0.14; extra == \"secure\" in /home/acheampong/anaconda3/lib/python3.7/site-packages (from urllib3[secure]~=1.26->selenium) (19.1.0)\n",
      "Requirement already satisfied: certifi; extra == \"secure\" in /home/acheampong/anaconda3/lib/python3.7/site-packages (from urllib3[secure]~=1.26->selenium) (2019.11.28)\n",
      "Requirement already satisfied: h11<1,>=0.9.0 in /home/acheampong/anaconda3/lib/python3.7/site-packages (from wsproto>=0.14->trio-websocket~=0.9->selenium) (0.13.0)\n",
      "Requirement already satisfied: cffi!=1.11.3,>=1.8 in /home/acheampong/anaconda3/lib/python3.7/site-packages (from cryptography>=1.3.4; extra == \"secure\"->urllib3[secure]~=1.26->selenium) (1.14.0)\n",
      "Requirement already satisfied: six>=1.4.1 in /home/acheampong/anaconda3/lib/python3.7/site-packages (from cryptography>=1.3.4; extra == \"secure\"->urllib3[secure]~=1.26->selenium) (1.14.0)\n",
      "Requirement already satisfied: typing-extensions; python_version < \"3.8\" in /home/acheampong/anaconda3/lib/python3.7/site-packages (from h11<1,>=0.9.0->wsproto>=0.14->trio-websocket~=0.9->selenium) (4.1.1)\n",
      "Requirement already satisfied: pycparser in /home/acheampong/anaconda3/lib/python3.7/site-packages (from cffi!=1.11.3,>=1.8->cryptography>=1.3.4; extra == \"secure\"->urllib3[secure]~=1.26->selenium) (2.19)\n"
     ]
    }
   ],
   "source": [
    "!pip install selenium"
   ]
  },
  {
   "cell_type": "code",
   "execution_count": 2,
   "metadata": {},
   "outputs": [],
   "source": [
    "from selenium import webdriver\n",
    "url = \"https://www.jumia.com.gh/computing/\"\n",
    "driver = webdriver.Chrome()"
   ]
  },
  {
   "cell_type": "code",
   "execution_count": 3,
   "metadata": {},
   "outputs": [],
   "source": [
    "driver.get(url)# launches a browser and get url"
   ]
  },
  {
   "cell_type": "code",
   "execution_count": 28,
   "metadata": {},
   "outputs": [
    {
     "name": "stderr",
     "output_type": "stream",
     "text": [
      "/home/acheampong/anaconda3/lib/python3.7/site-packages/ipykernel_launcher.py:2: DeprecationWarning: find_elements_by_* commands are deprecated. Please use find_elements() instead\n",
      "  \n"
     ]
    },
    {
     "name": "stdout",
     "output_type": "stream",
     "text": [
      "48\n"
     ]
    }
   ],
   "source": [
    "# using xpath to find the laptops\n",
    "comp_names = [comp.text for comp in driver.find_elements_by_xpath(\"//h3\")]\n",
    "comp_names = comp_names[:48]\n",
    "print(len(comp_names))"
   ]
  },
  {
   "cell_type": "code",
   "execution_count": 36,
   "metadata": {},
   "outputs": [
    {
     "name": "stderr",
     "output_type": "stream",
     "text": [
      "/home/acheampong/anaconda3/lib/python3.7/site-packages/ipykernel_launcher.py:2: DeprecationWarning: find_elements_by_* commands are deprecated. Please use find_elements() instead\n",
      "  \n"
     ]
    },
    {
     "name": "stdout",
     "output_type": "stream",
     "text": [
      "48\n"
     ]
    }
   ],
   "source": [
    "# using xpath to find the amount of laptops\n",
    "amounts = [amon.text for amon in driver.find_elements_by_xpath(\"//div[@class= 'prc']\")]\n",
    "amounts = amounts[42:]\n",
    "print(len(amounts))"
   ]
  },
  {
   "cell_type": "code",
   "execution_count": 37,
   "metadata": {},
   "outputs": [
    {
     "name": "stderr",
     "output_type": "stream",
     "text": [
      "/home/acheampong/anaconda3/lib/python3.7/site-packages/ipykernel_launcher.py:3: DeprecationWarning: find_elements_by_* commands are deprecated. Please use find_elements() instead\n",
      "  This is separate from the ipykernel package so we can avoid doing imports until\n"
     ]
    },
    {
     "name": "stdout",
     "output_type": "stream",
     "text": [
      "https://www.jumia.com.gh/backpack-3-in-1-multi-functional-school-business-backpack-with-usb-slot-black-29807052.html\n",
      "https://www.jumia.com.gh/eaget-u96-pen-drive-3.1-32gb-metal-otg-miro-usb-type-c-flash-drive-10035310.html\n",
      "https://www.jumia.com.gh/joy-star-3-in-1-multi-functional-school-business-backpack-with-usb-black-11795690.html\n",
      "https://www.jumia.com.gh/joy-star-3-in-1-multifunctional-laptop-backpack-with-usb-port-set-grey-31828277.html\n",
      "https://www.jumia.com.gh/3-in-1-multi-functional-backpack-with-usb-slot-black-backpack-mpg451749.html\n",
      "https://www.jumia.com.gh/3-pcs-anti-theft-laptopschool-bag-backpack-grey-backpack-mpg454001.html\n",
      "https://www.jumia.com.gh/eaget-u96-pen-drive-3.1-64gb-metal-otg-miro-usb-type-c-flash-drive-10035052.html\n",
      "https://www.jumia.com.gh/generic-colourful-led-2.4g-rechargeable-ultra-thin-wireless-mouse-22711972.html\n",
      "https://www.jumia.com.gh/joy-star-3-in-1-anti-theft-multifunctional-school-laptop-backpack-with-usb-port-grey-12940492.html\n",
      "https://www.jumia.com.gh/anti-theft-laptopschool-bag-usb-interface-backpack-dark-blue-white-label-mpg440220.html\n",
      "https://www.jumia.com.gh/anti-theft-backpack-with-usb-port-black-generic-mpg451788.html\n",
      "https://www.jumia.com.gh/3-pieces-multifunctional-backpack-set-black-generic-mpg454908.html\n",
      "https://www.jumia.com.gh/backpack-3-in-1-versatile-anti-theft-laptop-backpack-set-black-13114277.html\n",
      "https://www.jumia.com.gh/mtn-universal-4g-lte-mifi-for-mtn-vodafone-surfline-airteltigo-glo-white-back-36310420.html\n",
      "https://www.jumia.com.gh/generic-portable-mini-handheld-fan-with-stand-cradle-30018158.html\n",
      "https://www.jumia.com.gh/backpack-3-in-1-versatile-anti-theft-laptop-backpack-set-black-37115294.html\n",
      "https://www.jumia.com.gh/samsung-usb-pendrive-64gb-plus-free-otg-drive-1-piece-and-usb-hub-black-31549753.html\n",
      "https://www.jumia.com.gh/backpack-waterproof-laptopschool-with-usb-backpack-grey-4761135.html\n",
      "https://www.jumia.com.gh/3.0-usb-metallic-pendrive-64gb-silver-free-type-c-otg-adapter-samsung-mpg450053.html\n",
      "https://www.jumia.com.gh/3-in-1-trendy-multifunctional-laptop-backpack-grey-black-white-label-mpg454807.html\n",
      "https://www.jumia.com.gh/generic-3-pieces-multifunctional-business-school-laptop-backpack-black-12873828.html\n",
      "https://www.jumia.com.gh/hxsj-usb-wired-optical-colorful-light-gaming-mouse-30017700.html\n",
      "https://www.jumia.com.gh/generic-foldable-6-levels-adjustable-laptop-riser-ventilated-cooling-laptop-stand-32291563.html\n",
      "https://www.jumia.com.gh/generic-ammoon-dual-channel-vhf-wireless-handheld-microphone-system-20914761.html\n",
      "https://www.jumia.com.gh/samsung-64gb-usb-pendrive-buy-1-get-1-free-silverblack-31654987.html\n",
      "https://www.jumia.com.gh/deskjet-2710-all-in-one-wireless-inkjet-printer-free-usb-printer-cable-white-hp-mpg441461.html\n",
      "https://www.jumia.com.gh/anti-theft-waterproof-multi-functional-backpack-black-fashion-style-mpg448104.html\n",
      "https://www.jumia.com.gh/generic-soft-touch-wireless-keyboard-mouse-combo-black-free-bt-headphone-18822510.html\n",
      "https://www.jumia.com.gh/generic-laptop-stand-foldable-holder-adjustable-tablet-computer-bracket-aluminum-30079587.html\n",
      "https://www.jumia.com.gh/tsdatech-usb-flash-drive-high-speed-flash-pendrive-32gb-gray-32891174.html\n",
      "https://www.jumia.com.gh/generic-2-in-1-real-32gb-otg-usb-flash-drive-type-c-pen-drive-for-androidpc-32877765.html\n",
      "https://www.jumia.com.gh/3in1-laptop-backpack-black-generic-mpg441804.html\n",
      "https://www.jumia.com.gh/white-label-waterproof-busines-school-backpack-with-usb-interface-black-31277747.html\n",
      "https://www.jumia.com.gh/usb-3.1-bar-pendrive-64gb-black-samsung-mpg430408.html\n",
      "https://www.jumia.com.gh/generic-4-ports-high-speed-data-transfer-rate-usb-hub-29948373.html\n",
      "https://www.jumia.com.gh/generic-m30-rechargeable-2.4ghz-wireless-mouse-silver-20914264.html\n",
      "https://www.jumia.com.gh/generic-3-in-1-multi-functional-school-business-backpack-with-usb-slot-black-lcheibao005-34137472.html\n",
      "https://www.jumia.com.gh/white-label-high-speed-usb-2.0-hub-4-port-black-earpiece-31549685.html\n",
      "https://www.jumia.com.gh/tsdatech-64gb-2-in-1-real-otg-flash-memory-stick-pen-drive-thumb-key-red-32891139.html\n",
      "https://www.jumia.com.gh/anti-theft-waterproof-with-usb-laptop-bag-black-white-label-mpg438640.html\n",
      "https://www.jumia.com.gh/eaget-u96-pen-drive-3.1-32gb-metal-otg-miro-usb-type-c-flash-drive-10035310.html\n",
      "https://www.jumia.com.gh/logitech-m275-wireless-optical-mouse-black-43546047.html\n",
      "https://www.jumia.com.gh/3g4g-usb-modem-7.2mbps-black-hsdpa-mpg432961.html\n",
      "https://www.jumia.com.gh/hp-laptop-15.6-intel-celeron-core-2-duo-4g-500gb-hdd-windows-10-silver-33021134.html\n",
      "https://www.jumia.com.gh/jiesipote-18-travel-laptop-backpack-with-usb-chargingheadphone-ports-black-31588614.html\n",
      "https://www.jumia.com.gh/generic-colourful-led-2.4g-rechargeable-ultra-thin-wireless-mouse-22711972.html\n",
      "https://www.jumia.com.gh/mtn-universal-4g-lte-mifi-for-mtn-vodafone-surfline-airteltigo-glo-white-back-36310420.html\n",
      "https://www.jumia.com.gh/lian-li-o11-dynamic-mini-itx-computer-case-snow-white-42687473.html\n",
      "['https://www.jumia.com.gh/backpack-3-in-1-multi-functional-school-business-backpack-with-usb-slot-black-29807052.html', 'https://www.jumia.com.gh/eaget-u96-pen-drive-3.1-32gb-metal-otg-miro-usb-type-c-flash-drive-10035310.html', 'https://www.jumia.com.gh/joy-star-3-in-1-multi-functional-school-business-backpack-with-usb-black-11795690.html', 'https://www.jumia.com.gh/joy-star-3-in-1-multifunctional-laptop-backpack-with-usb-port-set-grey-31828277.html', 'https://www.jumia.com.gh/3-in-1-multi-functional-backpack-with-usb-slot-black-backpack-mpg451749.html', 'https://www.jumia.com.gh/3-pcs-anti-theft-laptopschool-bag-backpack-grey-backpack-mpg454001.html', 'https://www.jumia.com.gh/eaget-u96-pen-drive-3.1-64gb-metal-otg-miro-usb-type-c-flash-drive-10035052.html', 'https://www.jumia.com.gh/generic-colourful-led-2.4g-rechargeable-ultra-thin-wireless-mouse-22711972.html', 'https://www.jumia.com.gh/joy-star-3-in-1-anti-theft-multifunctional-school-laptop-backpack-with-usb-port-grey-12940492.html', 'https://www.jumia.com.gh/anti-theft-laptopschool-bag-usb-interface-backpack-dark-blue-white-label-mpg440220.html', 'https://www.jumia.com.gh/anti-theft-backpack-with-usb-port-black-generic-mpg451788.html', 'https://www.jumia.com.gh/3-pieces-multifunctional-backpack-set-black-generic-mpg454908.html', 'https://www.jumia.com.gh/backpack-3-in-1-versatile-anti-theft-laptop-backpack-set-black-13114277.html', 'https://www.jumia.com.gh/mtn-universal-4g-lte-mifi-for-mtn-vodafone-surfline-airteltigo-glo-white-back-36310420.html', 'https://www.jumia.com.gh/generic-portable-mini-handheld-fan-with-stand-cradle-30018158.html', 'https://www.jumia.com.gh/backpack-3-in-1-versatile-anti-theft-laptop-backpack-set-black-37115294.html', 'https://www.jumia.com.gh/samsung-usb-pendrive-64gb-plus-free-otg-drive-1-piece-and-usb-hub-black-31549753.html', 'https://www.jumia.com.gh/backpack-waterproof-laptopschool-with-usb-backpack-grey-4761135.html', 'https://www.jumia.com.gh/3.0-usb-metallic-pendrive-64gb-silver-free-type-c-otg-adapter-samsung-mpg450053.html', 'https://www.jumia.com.gh/3-in-1-trendy-multifunctional-laptop-backpack-grey-black-white-label-mpg454807.html', 'https://www.jumia.com.gh/generic-3-pieces-multifunctional-business-school-laptop-backpack-black-12873828.html', 'https://www.jumia.com.gh/hxsj-usb-wired-optical-colorful-light-gaming-mouse-30017700.html', 'https://www.jumia.com.gh/generic-foldable-6-levels-adjustable-laptop-riser-ventilated-cooling-laptop-stand-32291563.html', 'https://www.jumia.com.gh/generic-ammoon-dual-channel-vhf-wireless-handheld-microphone-system-20914761.html', 'https://www.jumia.com.gh/samsung-64gb-usb-pendrive-buy-1-get-1-free-silverblack-31654987.html', 'https://www.jumia.com.gh/deskjet-2710-all-in-one-wireless-inkjet-printer-free-usb-printer-cable-white-hp-mpg441461.html', 'https://www.jumia.com.gh/anti-theft-waterproof-multi-functional-backpack-black-fashion-style-mpg448104.html', 'https://www.jumia.com.gh/generic-soft-touch-wireless-keyboard-mouse-combo-black-free-bt-headphone-18822510.html', 'https://www.jumia.com.gh/generic-laptop-stand-foldable-holder-adjustable-tablet-computer-bracket-aluminum-30079587.html', 'https://www.jumia.com.gh/tsdatech-usb-flash-drive-high-speed-flash-pendrive-32gb-gray-32891174.html', 'https://www.jumia.com.gh/generic-2-in-1-real-32gb-otg-usb-flash-drive-type-c-pen-drive-for-androidpc-32877765.html', 'https://www.jumia.com.gh/3in1-laptop-backpack-black-generic-mpg441804.html', 'https://www.jumia.com.gh/white-label-waterproof-busines-school-backpack-with-usb-interface-black-31277747.html', 'https://www.jumia.com.gh/usb-3.1-bar-pendrive-64gb-black-samsung-mpg430408.html', 'https://www.jumia.com.gh/generic-4-ports-high-speed-data-transfer-rate-usb-hub-29948373.html', 'https://www.jumia.com.gh/generic-m30-rechargeable-2.4ghz-wireless-mouse-silver-20914264.html', 'https://www.jumia.com.gh/generic-3-in-1-multi-functional-school-business-backpack-with-usb-slot-black-lcheibao005-34137472.html', 'https://www.jumia.com.gh/white-label-high-speed-usb-2.0-hub-4-port-black-earpiece-31549685.html', 'https://www.jumia.com.gh/tsdatech-64gb-2-in-1-real-otg-flash-memory-stick-pen-drive-thumb-key-red-32891139.html', 'https://www.jumia.com.gh/anti-theft-waterproof-with-usb-laptop-bag-black-white-label-mpg438640.html', 'https://www.jumia.com.gh/eaget-u96-pen-drive-3.1-32gb-metal-otg-miro-usb-type-c-flash-drive-10035310.html', 'https://www.jumia.com.gh/logitech-m275-wireless-optical-mouse-black-43546047.html', 'https://www.jumia.com.gh/3g4g-usb-modem-7.2mbps-black-hsdpa-mpg432961.html', 'https://www.jumia.com.gh/hp-laptop-15.6-intel-celeron-core-2-duo-4g-500gb-hdd-windows-10-silver-33021134.html', 'https://www.jumia.com.gh/jiesipote-18-travel-laptop-backpack-with-usb-chargingheadphone-ports-black-31588614.html', 'https://www.jumia.com.gh/generic-colourful-led-2.4g-rechargeable-ultra-thin-wireless-mouse-22711972.html', 'https://www.jumia.com.gh/mtn-universal-4g-lte-mifi-for-mtn-vodafone-surfline-airteltigo-glo-white-back-36310420.html', 'https://www.jumia.com.gh/lian-li-o11-dynamic-mini-itx-computer-case-snow-white-42687473.html']\n"
     ]
    }
   ],
   "source": [
    "# using xpath to find the links\n",
    "link1 = []\n",
    "link = driver.find_elements_by_xpath(\"//*[@id='jm']/main/div[2]/div[3]/section/div[1]/article/a\")\n",
    "for i in link:\n",
    "    links = print(i.get_attribute('href'))\n",
    "    link1.append(i.get_attribute('href'))\n",
    "print(link1)\n"
   ]
  },
  {
   "cell_type": "code",
   "execution_count": 38,
   "metadata": {},
   "outputs": [
    {
     "data": {
      "text/html": [
       "<div>\n",
       "<style scoped>\n",
       "    .dataframe tbody tr th:only-of-type {\n",
       "        vertical-align: middle;\n",
       "    }\n",
       "\n",
       "    .dataframe tbody tr th {\n",
       "        vertical-align: top;\n",
       "    }\n",
       "\n",
       "    .dataframe thead th {\n",
       "        text-align: right;\n",
       "    }\n",
       "</style>\n",
       "<table border=\"1\" class=\"dataframe\">\n",
       "  <thead>\n",
       "    <tr style=\"text-align: right;\">\n",
       "      <th></th>\n",
       "      <th>Computer</th>\n",
       "      <th>Amount</th>\n",
       "      <th>links</th>\n",
       "    </tr>\n",
       "  </thead>\n",
       "  <tbody>\n",
       "    <tr>\n",
       "      <th>0</th>\n",
       "      <td>Backpack 3 in 1 Multi Functional School Busine...</td>\n",
       "      <td>GH₵ 51.00</td>\n",
       "      <td>https://www.jumia.com.gh/backpack-3-in-1-multi...</td>\n",
       "    </tr>\n",
       "    <tr>\n",
       "      <th>1</th>\n",
       "      <td>Eaget U96 Pen Drive 3.1- 32GB - Metal OTG Miro...</td>\n",
       "      <td>GH₵ 21.85</td>\n",
       "      <td>https://www.jumia.com.gh/eaget-u96-pen-drive-3...</td>\n",
       "    </tr>\n",
       "    <tr>\n",
       "      <th>2</th>\n",
       "      <td>Joy Star 3-in-1 Multi Functional School Busine...</td>\n",
       "      <td>GH₵ 51.00</td>\n",
       "      <td>https://www.jumia.com.gh/joy-star-3-in-1-multi...</td>\n",
       "    </tr>\n",
       "    <tr>\n",
       "      <th>3</th>\n",
       "      <td>Joy Star 3 in 1 Multifunctional Laptop Backpac...</td>\n",
       "      <td>GH₵ 51.00</td>\n",
       "      <td>https://www.jumia.com.gh/joy-star-3-in-1-multi...</td>\n",
       "    </tr>\n",
       "    <tr>\n",
       "      <th>4</th>\n",
       "      <td>Backpack 3 in 1 Multi Functional Backpack - Black</td>\n",
       "      <td>GH₵ 58.00</td>\n",
       "      <td>https://www.jumia.com.gh/3-in-1-multi-function...</td>\n",
       "    </tr>\n",
       "  </tbody>\n",
       "</table>\n",
       "</div>"
      ],
      "text/plain": [
       "                                            Computer     Amount  \\\n",
       "0  Backpack 3 in 1 Multi Functional School Busine...  GH₵ 51.00   \n",
       "1  Eaget U96 Pen Drive 3.1- 32GB - Metal OTG Miro...  GH₵ 21.85   \n",
       "2  Joy Star 3-in-1 Multi Functional School Busine...  GH₵ 51.00   \n",
       "3  Joy Star 3 in 1 Multifunctional Laptop Backpac...  GH₵ 51.00   \n",
       "4  Backpack 3 in 1 Multi Functional Backpack - Black  GH₵ 58.00   \n",
       "\n",
       "                                               links  \n",
       "0  https://www.jumia.com.gh/backpack-3-in-1-multi...  \n",
       "1  https://www.jumia.com.gh/eaget-u96-pen-drive-3...  \n",
       "2  https://www.jumia.com.gh/joy-star-3-in-1-multi...  \n",
       "3  https://www.jumia.com.gh/joy-star-3-in-1-multi...  \n",
       "4  https://www.jumia.com.gh/3-in-1-multi-function...  "
      ]
     },
     "execution_count": 38,
     "metadata": {},
     "output_type": "execute_result"
    }
   ],
   "source": [
    "import pandas as pd\n",
    "df = pd.DataFrame({\n",
    "    \"Computer\": comp_names,\n",
    "    \"Amount\":amounts,\n",
    "    \"links\" : link1\n",
    "})\n",
    "df.head()"
   ]
  },
  {
   "cell_type": "code",
   "execution_count": 40,
   "metadata": {},
   "outputs": [],
   "source": [
    "df.to_csv(\"assignment3_xpath.csv\")"
   ]
  }
 ],
 "metadata": {
  "kernelspec": {
   "display_name": "Python 3",
   "language": "python",
   "name": "python3"
  },
  "language_info": {
   "codemirror_mode": {
    "name": "ipython",
    "version": 3
   },
   "file_extension": ".py",
   "mimetype": "text/x-python",
   "name": "python",
   "nbconvert_exporter": "python",
   "pygments_lexer": "ipython3",
   "version": "3.7.6"
  }
 },
 "nbformat": 4,
 "nbformat_minor": 4
}
