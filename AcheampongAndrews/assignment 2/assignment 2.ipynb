{
 "cells": [
  {
   "cell_type": "code",
   "execution_count": 1,
   "metadata": {},
   "outputs": [],
   "source": [
    "from urllib.request import Request, urlopen\n",
    "from bs4 import BeautifulSoup as soup"
   ]
  },
  {
   "cell_type": "code",
   "execution_count": 2,
   "metadata": {},
   "outputs": [
    {
     "name": "stdout",
     "output_type": "stream",
     "text": [
      "90\n"
     ]
    }
   ],
   "source": [
    "url = \"https://www.jumia.com.gh/phones-tablets/\"\n",
    "req = Request(url, headers = {'User-Agent': 'Mozilla/5.0'})\n",
    "webpage = urlopen(req).read()\n",
    "page_soup = soup(webpage, \"html.parser\")\n",
    "laptops = page_soup.findAll(\"div\",\"name\")\n",
    "laptop_name = [l.text.strip() for l in laptops]\n",
    "laptop_name\n",
    "print(len(laptop_name))"
   ]
  },
  {
   "cell_type": "code",
   "execution_count": 3,
   "metadata": {},
   "outputs": [
    {
     "name": "stdout",
     "output_type": "stream",
     "text": [
      "90\n"
     ]
    }
   ],
   "source": [
    "price = page_soup.findAll(\"div\",\"prc\")\n",
    "amount = [p.text.strip() for p in price]\n",
    "amount\n",
    "#print(len(amount))\n",
    "amount = amount[:90]\n",
    "print(len(amount))"
   ]
  },
  {
   "cell_type": "code",
   "execution_count": 18,
   "metadata": {},
   "outputs": [
    {
     "name": "stdout",
     "output_type": "stream",
     "text": [
      "138\n",
      "90\n"
     ]
    }
   ],
   "source": [
    "link = [p.get('href') for p in page_soup.select('.core')]\n",
    "link\n",
    "print(len(link))\n",
    "link = link[:90]\n",
    "print(len(link))\n",
    "#the . means that it is a class"
   ]
  },
  {
   "cell_type": "code",
   "execution_count": 21,
   "metadata": {},
   "outputs": [
    {
     "data": {
      "text/html": [
       "<div>\n",
       "<style scoped>\n",
       "    .dataframe tbody tr th:only-of-type {\n",
       "        vertical-align: middle;\n",
       "    }\n",
       "\n",
       "    .dataframe tbody tr th {\n",
       "        vertical-align: top;\n",
       "    }\n",
       "\n",
       "    .dataframe thead th {\n",
       "        text-align: right;\n",
       "    }\n",
       "</style>\n",
       "<table border=\"1\" class=\"dataframe\">\n",
       "  <thead>\n",
       "    <tr style=\"text-align: right;\">\n",
       "      <th></th>\n",
       "      <th>Computer</th>\n",
       "      <th>Amount</th>\n",
       "      <th>links</th>\n",
       "    </tr>\n",
       "  </thead>\n",
       "  <tbody>\n",
       "    <tr>\n",
       "      <th>0</th>\n",
       "      <td>Lenovo LP40 Wireless Earphone Bluetooth 5.0 Wa...</td>\n",
       "      <td>GH₵ 75.00</td>\n",
       "      <td>/lenovo-lp40-wireless-earphone-bluetooth-5.0-w...</td>\n",
       "    </tr>\n",
       "    <tr>\n",
       "      <th>1</th>\n",
       "      <td>Lenovo LP40 Wireless Earphone Bluetooth 5.0 Wa...</td>\n",
       "      <td>GH₵ 62.00</td>\n",
       "      <td>/lenovo-lp40-wireless-earphone-bluetooth-5.0-w...</td>\n",
       "    </tr>\n",
       "    <tr>\n",
       "      <th>2</th>\n",
       "      <td>Samsung Galaxy A03 Core - 32GB HDD - 2GB RAM S...</td>\n",
       "      <td>GH₵ 554.00</td>\n",
       "      <td>/samsung-galaxy-a03-core-32gb-hdd-2gb-ram-smar...</td>\n",
       "    </tr>\n",
       "    <tr>\n",
       "      <th>3</th>\n",
       "      <td>Lenovo XT90 In-ear Earphones 5.0 Headphones Tr...</td>\n",
       "      <td>GH₵ 55.00</td>\n",
       "      <td>/lenovo-xt90-in-ear-earphones-5.0-headphones-t...</td>\n",
       "    </tr>\n",
       "    <tr>\n",
       "      <th>4</th>\n",
       "      <td>P47 Wireless Headset - White</td>\n",
       "      <td>GH₵ 29.47</td>\n",
       "      <td>/wireless-headset-white-p47-mpg454476.html</td>\n",
       "    </tr>\n",
       "  </tbody>\n",
       "</table>\n",
       "</div>"
      ],
      "text/plain": [
       "                                            Computer      Amount  \\\n",
       "0  Lenovo LP40 Wireless Earphone Bluetooth 5.0 Wa...   GH₵ 75.00   \n",
       "1  Lenovo LP40 Wireless Earphone Bluetooth 5.0 Wa...   GH₵ 62.00   \n",
       "2  Samsung Galaxy A03 Core - 32GB HDD - 2GB RAM S...  GH₵ 554.00   \n",
       "3  Lenovo XT90 In-ear Earphones 5.0 Headphones Tr...   GH₵ 55.00   \n",
       "4                       P47 Wireless Headset - White   GH₵ 29.47   \n",
       "\n",
       "                                               links  \n",
       "0  /lenovo-lp40-wireless-earphone-bluetooth-5.0-w...  \n",
       "1  /lenovo-lp40-wireless-earphone-bluetooth-5.0-w...  \n",
       "2  /samsung-galaxy-a03-core-32gb-hdd-2gb-ram-smar...  \n",
       "3  /lenovo-xt90-in-ear-earphones-5.0-headphones-t...  \n",
       "4         /wireless-headset-white-p47-mpg454476.html  "
      ]
     },
     "execution_count": 21,
     "metadata": {},
     "output_type": "execute_result"
    }
   ],
   "source": [
    "import pandas as pd\n",
    "df = pd.DataFrame({\n",
    "    \"Computer\": laptop_name,\n",
    "    \"Amount\":amount,\n",
    "    \"links\" : link\n",
    "})\n",
    "df.head()"
   ]
  },
  {
   "cell_type": "code",
   "execution_count": 22,
   "metadata": {},
   "outputs": [],
   "source": [
    "df.to_csv(\"assignment2a.csv\")"
   ]
  },
  {
   "cell_type": "code",
   "execution_count": null,
   "metadata": {},
   "outputs": [],
   "source": []
  }
 ],
 "metadata": {
  "kernelspec": {
   "display_name": "Python 3",
   "language": "python",
   "name": "python3"
  },
  "language_info": {
   "codemirror_mode": {
    "name": "ipython",
    "version": 3
   },
   "file_extension": ".py",
   "mimetype": "text/x-python",
   "name": "python",
   "nbconvert_exporter": "python",
   "pygments_lexer": "ipython3",
   "version": "3.7.6"
  }
 },
 "nbformat": 4,
 "nbformat_minor": 4
}
