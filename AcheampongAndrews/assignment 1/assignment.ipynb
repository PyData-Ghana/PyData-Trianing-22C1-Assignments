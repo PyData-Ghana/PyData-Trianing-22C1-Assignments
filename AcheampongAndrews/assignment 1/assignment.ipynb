{
 "cells": [
  {
   "cell_type": "code",
   "execution_count": 1,
   "metadata": {},
   "outputs": [],
   "source": [
    "from urllib.request import Request, urlopen\n",
    "from bs4 import BeautifulSoup as soup"
   ]
  },
  {
   "cell_type": "code",
   "execution_count": 2,
   "metadata": {
    "scrolled": true
   },
   "outputs": [
    {
     "name": "stdout",
     "output_type": "stream",
     "text": [
      "48\n"
     ]
    }
   ],
   "source": [
    "url = \"https://www.jumia.com.gh/laptops/\"\n",
    "req = Request(url, headers = {'User-Agent': 'Mozilla/5.0'})\n",
    "webpage = urlopen(req).read()\n",
    "page_soup = soup(webpage, \"html.parser\")\n",
    "laptops = page_soup.findAll(\"h3\",\"name\")\n",
    "laptop_name = [l.text.strip() for l in laptops]\n",
    "laptop_name\n",
    "print(len(laptop_name))"
   ]
  },
  {
   "cell_type": "code",
   "execution_count": 3,
   "metadata": {},
   "outputs": [
    {
     "name": "stdout",
     "output_type": "stream",
     "text": [
      "48\n"
     ]
    }
   ],
   "source": [
    "price = page_soup.findAll(\"div\",\"prc\")\n",
    "amount = [p.text.strip() for p in price]\n",
    "amount\n",
    "#print(len(amount))\n",
    "amount = amount[3:]\n",
    "print(len(amount))"
   ]
  },
  {
   "cell_type": "code",
   "execution_count": 4,
   "metadata": {},
   "outputs": [],
   "source": [
    "list1 ={}\n",
    "for name in laptop_name:\n",
    "    if name not in list1:\n",
    "        list1[name] = 0\n",
    "#print(list1)"
   ]
  },
  {
   "cell_type": "code",
   "execution_count": 5,
   "metadata": {},
   "outputs": [],
   "source": [
    "total = 0\n",
    "index = 0\n",
    "for row in list1:\n",
    "    list1[row]=amount[index]\n",
    "    index += 1"
   ]
  },
  {
   "cell_type": "code",
   "execution_count": 6,
   "metadata": {},
   "outputs": [
    {
     "name": "stdout",
     "output_type": "stream",
     "text": [
      "{'Lenovo IdeaPad-1-11IGL05 11.6\" - 4GB RAM - 128GB SSD - Intel Celeron N4020 - Windows 10 - Grey': 'GH₵ 1,855.00', 'Hp Laptop - Intel Celeron Core 2 Duo - 4G RAM - 500GB HDD - 15.6” - Windows10 - Silver': 'GH₵ 1,656.00', 'Lenovo V14-IGL -14.0″ -  Intel N4020 - 4GB DDR4 RAM - 1TB HDD - Grey': 'GH₵ 2,245.00', 'Apple 2020 MacBook Pro - 512GB SSD 8GB RAM -13.3 -Space-Gray': 'GH₵ 8,900.00', 'Hp 15-dw1081wm Intel Pentium Gold 6405U Laptop - 4GB DDR4 RAM - 500GB HDD - Windows 10 - Scarlet Red': 'GH₵ 2,399.00', 'Lenovo Ideapad S145-15IGM (81MX) - Intel Celeron N4000- 1TB HDD - 4GB RAM -15.6\" - Windows 10 - Black': 'GH₵ 2,189.00', '10.1 inch Netbook PC - 1GBRAM - 8GB HDD - Android 5.1 ATM7059  - Black': 'GH₵ 750.00', \"Hp Laptop 14 - cf2187nia 10th Generation Intel Core i3 - 4GB RAM - 1TB HDD - 14.0'' LED Screen - Black\": 'GH₵ 2,799.00', \"Hp 15 Notebook Laptop -15.6'' - Intel® Celeron®  500GB HDD - 4GB RAM - Windows 10 - Black\": 'GH₵ 2,244.00', 'Hp Laptop 15.6” - Intel Celeron Core 2 Duo - 4G - 500GB HDD  - Windows 10 - Silver': 'GH₵ 2,400.00', 'DELL Vostro 3000 Series - 11th Gen Intel Core  i3-1115G4 - 1TB HDD - 8GB RAM - 15.6\" - Windows 10 - Gray': 'GH₵ 3,295.00', 'Hp Notebook 14-DQ1043CL - Intel Core i3-1005G1 - 8GB - 256GB SSD - Win10 - Backlit Keyboard - Silver': 'GH₵ 3,209.00', 'Lenovo V15 Intel Core i3 - 10th Generation 15.6\" - 4 GB RAM -1 TB HDD - Win 11 Pro - Iron Gray': 'GH₵ 3,000.00', 'Hp 15T-ED000 x360 -15\" - Core i7-1065G7+512 SSD+16GB RAM+4GB NVIDIA MX330 - Windows 10 -Silver': 'GH₵ 9,800.00', 'Lenovo V15 Intel Core i3 - 10th Generation 15.6\" - 12GB RAM -1 TB HDD - Win 10 Pro - Iron Gray': 'GH₵ 3,434.00', 'Hp Notebook 15-da2937nia - 15.6\" - 10th Gen Core i7-10510U - 8GB RAM - 1TB HDD  - Windows 10 - Black': 'GH₵ 4,393.75', 'Lenovo V14-IGL - Intel Celeron N4020- 1TB HDD - 4GB RAM - 14\" - Windows 11 Pro - Iron Gray': 'GH₵ 2,490.00', 'Hp Pavilion Gaming -Core i5-10300H -1TB DRIVE - 256SSD- 8GB RAM - 4GB Nvidia- Black': 'GH₵ 5,800.00', 'Hp Envy x360 convertible 15 Touchscreen - Core i7-1065g7 - 10th Gen - 16GB RAM - 512GB SSD - Win 10 - Silver': 'GH₵ 6,690.00', 'Lenovo V15 Intel Core i3 - 10th Generation 15.6\" - 4 GB RAM -1 TB HDD - Win 10 Pro - Iron Gray': 'GH₵ 2,879.00', '360o Rotating Bluetooth 7 s Backlit Aluminum Keyboard For iPad 9.7\" 2018/iPad 9.7\" 2017/iPad Air/Air 2/Pro 9.7\"-Blue (blue)': 'GH₵ 499.00', 'DELL Vostro 3500 - 11th Generation Intel Core i5-1135G7 - 1TB HDD -4GB RAM -15.6\" - Windows 10 - Gray': 'GH₵ 3,607.50', 'TDD-10.1 Netbook PC - 10.1\" - Dual-Core - 1GB RAM - Android 6.0 - White': 'GH₵ 855.00', 'Foldable Non-slip Laptop N Stand Portable Thin PC Bracket Ph': 'GH₵ 129.00', 'Hp 250 G7 - 15.6\" - Intel Core i5 - 1TB HDD - 8GB RAM - Windows 10 - Gray': 'GH₵ 4,225.00', 'N1001 Netbook PC - 10.1\" - Dual-Core - 1GB RAM - Android 6.0 - Pink': 'GH₵ 719.00', 'Hp Pavilion Gaming -Core i5-10300H - 256SSD- 8GB RAM - 4GB Nvidia- Black': 'GH₵ 6,300.00', 'DELL Latitude 3189 2-In-1 Intel Pentium Laptop - 8GB RAM - 256GB SSD 11.6\" Display - Win10 - Gray': 'GH₵ 2,800.00', \"Hp Laptop 14 - cf2187nia 10th Generation Intel Core i3 - 8GB RAM - 1TB HDD - 14.0'' LED Screen - Black\": 'GH₵ 3,250.00', 'Hp 15-da0021ds Intel Pentium Gold 5405U Laptop - TOUCH SCREEN 8GB RAM - 256GB SSD - Win 10 - BLUE': 'GH₵ 2,950.00', 'Hp 15-DY1091WM Laptop – Core™ i3 1.20GHz – 10th Gen – 8GB – 256GB – Win10  – Silver': 'GH₵ 3,399.00', 'Hp 250 G7 - 15.6\" - Intel Celeron N4000 - 1TB HDD - 4GB RAM - Windows 10 Laptop - Gray': 'GH₵ 2,489.00', 'Hp Pavilion x360 14-DH2051WM - 10th Gen- 8GB Ram-256GB SSD - Natural Silver': 'GH₵ 100,000.00', 'Hp Notebook 15 - 10th Gen Intel Core i5 Processor - 1TB HDD - 4GB RAM - Windows 10 Laptop - Black': 'GH₵ 3,889.00', '10.1 inch  Netbook PC -1GBRAM - 8GBROM - Android 6.0  - Black': 'GH₵ 779.00', 'Hp Laptop 15.6” - Intel Celeron Core 2 Duo -500GB HDD  - 4GB - Windows 7 - Silver': 'GH₵ 1,820.00', 'Apple MacBook Pro M1- 256GB-HDD-8GB-RAM-13.3-Space-Gray': 'GH₵ 9,000.00', 'Apple MacBook Pro - 256GB SSD 8GB RAM -13.3 -Space-Gray': 'GH₵ 9,000.00', 'Hp Pavilion 15-er0125od x360 - Intel Core i5 - 8GB RAM - 256GB SSD Touchscreen - Silver': 'GH₵ 5,200.00', 'Hp Pavilion 15-eg0073cl 15.6″ Touchscreen Laptop – 11th Gen Intel Core i7-1165G7 4.7 GHz -16GB RAM – 512GB SSD – Backlit Keyboard - Fog Blue': 'GH₵ 6,990.00', '': ''}\n"
     ]
    }
   ],
   "source": [
    "print(list1)"
   ]
  },
  {
   "cell_type": "code",
   "execution_count": 7,
   "metadata": {
    "scrolled": true
   },
   "outputs": [
    {
     "data": {
      "text/plain": [
       "<bound method NDFrame.head of                                              Computer          Amount\n",
       "0   Lenovo IdeaPad-1-11IGL05 11.6\" - 4GB RAM - 128...    GH₵ 1,855.00\n",
       "1   Hp Laptop - Intel Celeron Core 2 Duo - 4G RAM ...    GH₵ 1,656.00\n",
       "2   Lenovo V14-IGL -14.0″ -  Intel N4020 - 4GB DDR...    GH₵ 2,245.00\n",
       "3   Apple 2020 MacBook Pro - 512GB SSD 8GB RAM -13...    GH₵ 8,900.00\n",
       "4   Hp 15-dw1081wm Intel Pentium Gold 6405U Laptop...    GH₵ 2,399.00\n",
       "5   Lenovo Ideapad S145-15IGM (81MX) - Intel Celer...    GH₵ 2,189.00\n",
       "6   10.1 inch Netbook PC - 1GBRAM - 8GB HDD - Andr...      GH₵ 750.00\n",
       "7   Hp Laptop 14 - cf2187nia 10th Generation Intel...    GH₵ 2,799.00\n",
       "8   Hp 15 Notebook Laptop -15.6'' - Intel® Celeron...    GH₵ 2,244.00\n",
       "9   Hp Laptop 15.6” - Intel Celeron Core 2 Duo - 4...    GH₵ 2,400.00\n",
       "10  DELL Vostro 3000 Series - 11th Gen Intel Core ...    GH₵ 3,295.00\n",
       "11  Hp Notebook 14-DQ1043CL - Intel Core i3-1005G1...    GH₵ 3,209.00\n",
       "12  Lenovo V15 Intel Core i3 - 10th Generation 15....    GH₵ 3,000.00\n",
       "13  Hp 15T-ED000 x360 -15\" - Core i7-1065G7+512 SS...    GH₵ 9,800.00\n",
       "14  Lenovo V15 Intel Core i3 - 10th Generation 15....    GH₵ 3,434.00\n",
       "15  Hp Notebook 15-da2937nia - 15.6\" - 10th Gen Co...    GH₵ 4,393.75\n",
       "16  Lenovo V14-IGL - Intel Celeron N4020- 1TB HDD ...    GH₵ 2,490.00\n",
       "17  Hp Pavilion Gaming -Core i5-10300H -1TB DRIVE ...    GH₵ 5,800.00\n",
       "18  Hp Envy x360 convertible 15 Touchscreen - Core...    GH₵ 6,690.00\n",
       "19  Lenovo V15 Intel Core i3 - 10th Generation 15....    GH₵ 2,879.00\n",
       "20  360o Rotating Bluetooth 7 s Backlit Aluminum K...      GH₵ 499.00\n",
       "21  DELL Vostro 3500 - 11th Generation Intel Core ...    GH₵ 3,607.50\n",
       "22  TDD-10.1 Netbook PC - 10.1\" - Dual-Core - 1GB ...      GH₵ 855.00\n",
       "23  Foldable Non-slip Laptop N Stand Portable Thin...      GH₵ 129.00\n",
       "24  Hp 250 G7 - 15.6\" - Intel Core i5 - 1TB HDD - ...    GH₵ 4,225.00\n",
       "25  N1001 Netbook PC - 10.1\" - Dual-Core - 1GB RAM...      GH₵ 719.00\n",
       "26  Hp Pavilion Gaming -Core i5-10300H - 256SSD- 8...    GH₵ 6,300.00\n",
       "27  DELL Latitude 3189 2-In-1 Intel Pentium Laptop...    GH₵ 2,800.00\n",
       "28  Hp Laptop 14 - cf2187nia 10th Generation Intel...    GH₵ 3,250.00\n",
       "29  Hp 15-da0021ds Intel Pentium Gold 5405U Laptop...    GH₵ 2,950.00\n",
       "30  Hp 15-DY1091WM Laptop – Core™ i3 1.20GHz – 10t...    GH₵ 3,399.00\n",
       "31  Hp 250 G7 - 15.6\" - Intel Celeron N4000 - 1TB ...    GH₵ 2,489.00\n",
       "32  Hp Pavilion x360 14-DH2051WM - 10th Gen- 8GB R...  GH₵ 100,000.00\n",
       "33  Hp Notebook 15 - 10th Gen Intel Core i5 Proces...    GH₵ 3,889.00\n",
       "34  10.1 inch  Netbook PC -1GBRAM - 8GBROM - Andro...      GH₵ 779.00\n",
       "35  Hp Laptop 15.6” - Intel Celeron Core 2 Duo -50...    GH₵ 1,820.00\n",
       "36  Apple MacBook Pro M1- 256GB-HDD-8GB-RAM-13.3-S...    GH₵ 9,000.00\n",
       "37  Apple MacBook Pro - 256GB SSD 8GB RAM -13.3 -S...    GH₵ 9,000.00\n",
       "38  Hp Pavilion 15-er0125od x360 - Intel Core i5 -...    GH₵ 5,200.00\n",
       "39  Hp Pavilion 15-eg0073cl 15.6″ Touchscreen Lapt...    GH₵ 6,990.00\n",
       "40                                                                   \n",
       "41                                                                   \n",
       "42                                                                   \n",
       "43                                                                   \n",
       "44                                                                   \n",
       "45                                                                   \n",
       "46                                                                   \n",
       "47                                                                   >"
      ]
     },
     "execution_count": 7,
     "metadata": {},
     "output_type": "execute_result"
    }
   ],
   "source": [
    "import pandas as pd\n",
    "df = pd.DataFrame({\n",
    "    \"Computer\": laptop_name,\n",
    "    \"Amount\":amount\n",
    "})\n",
    "df.head"
   ]
  },
  {
   "cell_type": "code",
   "execution_count": 8,
   "metadata": {},
   "outputs": [],
   "source": [
    "df.to_csv(\"Acheampong_Andrews_work.csv\")"
   ]
  },
  {
   "cell_type": "code",
   "execution_count": 24,
   "metadata": {},
   "outputs": [
    {
     "data": {
      "text/html": [
       "<div>\n",
       "<style scoped>\n",
       "    .dataframe tbody tr th:only-of-type {\n",
       "        vertical-align: middle;\n",
       "    }\n",
       "\n",
       "    .dataframe tbody tr th {\n",
       "        vertical-align: top;\n",
       "    }\n",
       "\n",
       "    .dataframe thead th {\n",
       "        text-align: right;\n",
       "    }\n",
       "</style>\n",
       "<table border=\"1\" class=\"dataframe\">\n",
       "  <thead>\n",
       "    <tr style=\"text-align: right;\">\n",
       "      <th></th>\n",
       "      <th>names</th>\n",
       "    </tr>\n",
       "  </thead>\n",
       "  <tbody>\n",
       "    <tr>\n",
       "      <th>GH₵ 1,855.00</th>\n",
       "      <td>Lenovo IdeaPad-1-11IGL05 11.6\" - 4GB RAM - 128...</td>\n",
       "    </tr>\n",
       "    <tr>\n",
       "      <th>GH₵ 1,656.00</th>\n",
       "      <td>Hp Laptop - Intel Celeron Core 2 Duo - 4G RAM ...</td>\n",
       "    </tr>\n",
       "    <tr>\n",
       "      <th>GH₵ 2,245.00</th>\n",
       "      <td>Lenovo V14-IGL -14.0″ -  Intel N4020 - 4GB DDR...</td>\n",
       "    </tr>\n",
       "    <tr>\n",
       "      <th>GH₵ 8,900.00</th>\n",
       "      <td>Apple 2020 MacBook Pro - 512GB SSD 8GB RAM -13...</td>\n",
       "    </tr>\n",
       "    <tr>\n",
       "      <th>GH₵ 2,399.00</th>\n",
       "      <td>Hp 15-dw1081wm Intel Pentium Gold 6405U Laptop...</td>\n",
       "    </tr>\n",
       "  </tbody>\n",
       "</table>\n",
       "</div>"
      ],
      "text/plain": [
       "                                                          names\n",
       "GH₵ 1,855.00  Lenovo IdeaPad-1-11IGL05 11.6\" - 4GB RAM - 128...\n",
       "GH₵ 1,656.00  Hp Laptop - Intel Celeron Core 2 Duo - 4G RAM ...\n",
       "GH₵ 2,245.00  Lenovo V14-IGL -14.0″ -  Intel N4020 - 4GB DDR...\n",
       "GH₵ 8,900.00  Apple 2020 MacBook Pro - 512GB SSD 8GB RAM -13...\n",
       "GH₵ 2,399.00  Hp 15-dw1081wm Intel Pentium Gold 6405U Laptop..."
      ]
     },
     "execution_count": 24,
     "metadata": {},
     "output_type": "execute_result"
    }
   ],
   "source": [
    "import pandas as pd\n",
    "df = pd.DataFrame(laptop_name, amount, columns = [\"names\"])#put the data in a dataframe\n",
    "df.head()"
   ]
  },
  {
   "cell_type": "code",
   "execution_count": 25,
   "metadata": {},
   "outputs": [],
   "source": [
    "df.to_csv(\"assignment.csv\")"
   ]
  }
 ],
 "metadata": {
  "kernelspec": {
   "display_name": "Python 3",
   "language": "python",
   "name": "python3"
  },
  "language_info": {
   "codemirror_mode": {
    "name": "ipython",
    "version": 3
   },
   "file_extension": ".py",
   "mimetype": "text/x-python",
   "name": "python",
   "nbconvert_exporter": "python",
   "pygments_lexer": "ipython3",
   "version": "3.7.6"
  }
 },
 "nbformat": 4,
 "nbformat_minor": 4
}
